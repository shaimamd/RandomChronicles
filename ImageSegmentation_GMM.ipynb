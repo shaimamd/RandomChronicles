{
 "cells": [
  {
   "cell_type": "markdown",
   "id": "48a59a0e-92d1-4578-8d79-818bb30fdbf6",
   "metadata": {},
   "source": [
    "Reference: https://github.com/bnsreenu/python_for_microscopists"
   ]
  },
  {
   "cell_type": "code",
   "execution_count": 2,
   "id": "7c3a314c-3dee-4a44-a630-f3995dc3becf",
   "metadata": {},
   "outputs": [
    {
     "name": "stdout",
     "output_type": "stream",
     "text": [
      "Defaulting to user installation because normal site-packages is not writeable\n",
      "Requirement already satisfied: opencv-python-headless in c:\\users\\shmads\\appdata\\roaming\\python\\python312\\site-packages (4.11.0.86)\n",
      "Requirement already satisfied: numpy>=1.21.2 in c:\\programdata\\anaconda3\\lib\\site-packages (from opencv-python-headless) (1.26.4)\n",
      "Note: you may need to restart the kernel to use updated packages.\n"
     ]
    }
   ],
   "source": [
    "pip install opencv-python-headless\n"
   ]
  },
  {
   "cell_type": "code",
   "execution_count": 3,
   "id": "6f2b1765-dfc6-4171-9025-ce620889bfa8",
   "metadata": {},
   "outputs": [],
   "source": [
    "import numpy as np\n",
    "import cv2"
   ]
  },
  {
   "cell_type": "code",
   "execution_count": 4,
   "id": "7c84a76b-6126-4508-92aa-bf05b9c59213",
   "metadata": {},
   "outputs": [],
   "source": [
    "img=cv2.imread(\"leaf.jpg\")"
   ]
  },
  {
   "cell_type": "code",
   "execution_count": 5,
   "id": "9135eed4-2783-4ee2-bacb-48e06447a96d",
   "metadata": {},
   "outputs": [
    {
     "name": "stdout",
     "output_type": "stream",
     "text": [
      "(443, 590, 3)\n"
     ]
    }
   ],
   "source": [
    "print(img.shape)"
   ]
  },
  {
   "cell_type": "code",
   "execution_count": 6,
   "id": "a70ea27a-a64f-44aa-aea0-defd74395fcf",
   "metadata": {},
   "outputs": [],
   "source": [
    "img2=img.reshape((-1,3))"
   ]
  },
  {
   "cell_type": "code",
   "execution_count": 7,
   "id": "cca38905-79bf-46a1-b80e-f0f8276a9eec",
   "metadata": {},
   "outputs": [],
   "source": [
    "from sklearn.mixture import GaussianMixture as GMM"
   ]
  },
  {
   "cell_type": "markdown",
   "id": "1b8c1bcf-facc-49b9-bc29-6c8aca439e84",
   "metadata": {},
   "source": [
    "Define the model, fit the model and predict the data"
   ]
  },
  {
   "cell_type": "code",
   "execution_count": 9,
   "id": "63643bd1-4b3d-4d7b-86f4-9253bb01ac37",
   "metadata": {},
   "outputs": [
    {
     "name": "stderr",
     "output_type": "stream",
     "text": [
      "C:\\ProgramData\\anaconda3\\Lib\\site-packages\\joblib\\externals\\loky\\backend\\context.py:136: UserWarning: Could not find the number of physical cores for the following reason:\n",
      "[WinError 2] The system cannot find the file specified\n",
      "Returning the number of logical cores instead. You can silence this warning by setting LOKY_MAX_CPU_COUNT to the number of cores you want to use.\n",
      "  warnings.warn(\n",
      "  File \"C:\\ProgramData\\anaconda3\\Lib\\site-packages\\joblib\\externals\\loky\\backend\\context.py\", line 257, in _count_physical_cores\n",
      "    cpu_info = subprocess.run(\n",
      "               ^^^^^^^^^^^^^^^\n",
      "  File \"C:\\ProgramData\\anaconda3\\Lib\\subprocess.py\", line 548, in run\n",
      "    with Popen(*popenargs, **kwargs) as process:\n",
      "         ^^^^^^^^^^^^^^^^^^^^^^^^^^^\n",
      "  File \"C:\\ProgramData\\anaconda3\\Lib\\subprocess.py\", line 1026, in __init__\n",
      "    self._execute_child(args, executable, preexec_fn, close_fds,\n",
      "  File \"C:\\ProgramData\\anaconda3\\Lib\\subprocess.py\", line 1538, in _execute_child\n",
      "    hp, ht, pid, tid = _winapi.CreateProcess(executable, args,\n",
      "                       ^^^^^^^^^^^^^^^^^^^^^^^^^^^^^^^^^^^^^^^\n"
     ]
    }
   ],
   "source": [
    "gmm_model=GMM(n_components=4,covariance_type='tied').fit(img2)"
   ]
  },
  {
   "cell_type": "code",
   "execution_count": 10,
   "id": "f3f70e09-851d-4e8d-90ac-6329fc1e9a9d",
   "metadata": {},
   "outputs": [],
   "source": [
    "gmm_labels=gmm_model.predict(img2)"
   ]
  },
  {
   "cell_type": "code",
   "execution_count": 11,
   "id": "01b30a83-1191-4bc4-896b-839acff38951",
   "metadata": {},
   "outputs": [],
   "source": [
    "original_shape=img.shape\n",
    "segmented=gmm_labels.reshape(original_shape[0], original_shape[1])"
   ]
  },
  {
   "cell_type": "code",
   "execution_count": 12,
   "id": "152db08a-24c0-44e5-88ef-572c30eec088",
   "metadata": {},
   "outputs": [
    {
     "data": {
      "text/plain": [
       "True"
      ]
     },
     "execution_count": 12,
     "metadata": {},
     "output_type": "execute_result"
    }
   ],
   "source": [
    "cv2.imwrite(\"segmented_leaf.jpg\",segmented)"
   ]
  },
  {
   "cell_type": "markdown",
   "id": "a40f526e-82b1-4544-9bd2-73a298038afe",
   "metadata": {},
   "source": [
    "How to decide the number of parameters? one can use Akaike Information Criteria (AIC) or Bayesian Information Criteria (BIC)"
   ]
  },
  {
   "cell_type": "markdown",
   "id": "b590d55e-8808-441e-8245-6edd2dc685e0",
   "metadata": {},
   "source": [
    "Lets try say 10 components"
   ]
  },
  {
   "cell_type": "code",
   "execution_count": 15,
   "id": "5415b741-1c59-4145-9148-75ed528bbfe5",
   "metadata": {},
   "outputs": [],
   "source": [
    "n_components=np.arange(1,10)\n",
    "gmm_models=[GMM(n,covariance_type='tied').fit(img2) for n in n_components]\n"
   ]
  },
  {
   "cell_type": "code",
   "execution_count": 16,
   "id": "dad510aa-5f89-4dbb-b16e-50a285a79b39",
   "metadata": {},
   "outputs": [
    {
     "data": {
      "text/plain": [
       "Text(0.5, 0, 'n_components')"
      ]
     },
     "execution_count": 16,
     "metadata": {},
     "output_type": "execute_result"
    },
    {
     "data": {
      "image/png": "[encoded data removed]",
      "text/plain": [
       "<Figure size 640x480 with 1 Axes>"
      ]
     },
     "metadata": {},
     "output_type": "display_data"
    }
   ],
   "source": [
    "from matplotlib import pyplot as plt\n",
    "plt.plot(n_components,[m.bic(img2) for m in gmm_models],label=\"BIC\")\n",
    "plt.xlabel(\"n_components\")"
   ]
  },
  {
   "cell_type": "markdown",
   "id": "b53f6bed-0706-4f25-8e0f-6e40be633c93",
   "metadata": {},
   "source": [
    "Look at the penalty term and use as guide!"
   ]
  },
  {
   "cell_type": "code",
   "execution_count": null,
   "id": "bfa76c1e-dbdb-4563-af57-4527e153ada4",
   "metadata": {},
   "outputs": [],
   "source": []
  }
 ],
 "metadata": {
  "kernelspec": {
   "display_name": "Python [conda env:base] *",
   "language": "python",
   "name": "conda-base-py"
  },
  "language_info": {
   "codemirror_mode": {
    "name": "ipython",
    "version": 3
   },
   "file_extension": ".py",
   "mimetype": "text/x-python",
   "name": "python",
   "nbconvert_exporter": "python",
   "pygments_lexer": "ipython3",
   "version": "3.12.3"
  }
 },
 "nbformat": 4,
 "nbformat_minor": 5
}
