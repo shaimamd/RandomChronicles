{
 "cells": [
  {
   "cell_type": "code",
   "execution_count": 1,
   "id": "fe642b6a",
   "metadata": {},
   "outputs": [],
   "source": [
    "import numpy as np\n",
    "import matplotlib.pyplot as plt"
   ]
  },
  {
   "cell_type": "markdown",
   "id": "f103580c",
   "metadata": {},
   "source": [
    "# RJMCMC\n",
    "Ref: https://www.colorado.edu/amath/sites/default/files/attached-files/rjmcmc.pdf\n",
    "\n",
    "Traditionally MCMC has fixed parameters. Fror example If we have choice between two models with model A and Model B with one and two parameters respectively.\n",
    "In this case there are three mechanisms possible:\n",
    "\n",
    "Birth: ModelA $\\rightarrow$ ModelB\n",
    "Death: ModelB $\\rightarrow$ ModelA\n",
    "Move: Move within the model to change the parameters.\n",
    "\n",
    "Therefore the acceptance criteria in this case , should consider both the prior and likelihood from both the models.\n",
    "\n",
    "### The steps for RJMCMC are as follows\n",
    "1. Start with Model A with $\\theta_{A}$ as parameters.\n",
    "2. Propose a new model, Model B with $\\theta_{B}$ as parameters.\n",
    "3. Calculate the acceptance ratio $\\alpha$\n",
    "4. Accept/reject the new model parameters based on $\\alpha$\n",
    "5. Repeat the steps.\n",
    "\n",
    "\n",
    "\n",
    "\n",
    "The problem from MCMC and RJMCMC can be obtained by using a generalised approach. That is the reason of having Jacobian and it is not because dimension'Jumping'. The Jacobian accounts for the trnaformation in parameter space of different dimension ensuring probablity density adjustments. In case of no model jumping it means Jacobian is unity."
   ]
  },
  {
   "cell_type": "code",
   "execution_count": 2,
   "id": "bd40388e",
   "metadata": {},
   "outputs": [],
   "source": [
    "###Working with two distribution poissons and negative binomial\n",
    "def poisson_distribution(x,lmbda):\n",
    "    return lmbda**x*np.exp(-lmbda)/np.math.factorial(x)\n",
    "\n",
    "def neg_binomial_distribution(x, r, p):\n",
    "    from scipy.special import gamma\n",
    "    return (gamma(r + x) / (np.math.factorial(x) * gamma(r))) * (p ** r) * ((1 - p) ** x)\n",
    "    "
   ]
  },
  {
   "cell_type": "markdown",
   "id": "a1499e23",
   "metadata": {},
   "source": [
    "For Poisson,s distribution , we have one parameter mean $\\lambda$\n",
    "\n",
    "Whereas in the case of Negative Bionomial Distribution, we have two parameters $r$ and $p$, The mean is given by $\\dfrac{r(1-p)}{p}$\n",
    "\n",
    "If equate these two we get $p=\\dfrac{r}{\\lambda+r}$\n"
   ]
  },
  {
   "cell_type": "markdown",
   "id": "d28a69d2",
   "metadata": {},
   "source": [
    "### Jump from Model 1 to Model 2 and vicecersa\n"
   ]
  },
  {
   "cell_type": "markdown",
   "id": "9bce2ab1",
   "metadata": {},
   "source": [
    "Model 1: $x$(1, $\\theta$)=(1, $\\lambda$)\n",
    "\n",
    "Model 2: $x'$(1, $\\theta$)=(2, $\\lambda'$,$r'$)"
   ]
  },
  {
   "cell_type": "markdown",
   "id": "12c5dc06",
   "metadata": {},
   "source": [
    "#### Jump Model 1 to Model 2"
   ]
  },
  {
   "cell_type": "markdown",
   "id": "2731e1cf",
   "metadata": {},
   "source": [
    "Draw $w \\sim U(0,1)$\n",
    "\n",
    "Using inverse CDF generate $r=-ln(w)$\n",
    "($\\lambda'$, $r'$)=($\\lambda$, $-ln(w)$)\n",
    "\n",
    "$J=|\\dfrac{\\partial(\\lambda',r')}{\\partial(\\lambda,r)}|$\n",
    "Acceptance probablity to move from the model 1 to 2\n",
    "\n",
    "$\\alpha((1,\\lambda),(2,\\lambda',r'))=min({1,\\dfrac{\\pi(2, \\lambda',r'|\\vec{x})q(k|k')}{\\pi(1,\\lambda|\\vec{x})})g(w)q(k'|k)} \\cdot J)$"
   ]
  },
  {
   "cell_type": "markdown",
   "id": "6ff063ea",
   "metadata": {},
   "source": [
    "#### Jump Model 2 to Model 1"
   ]
  },
  {
   "cell_type": "markdown",
   "id": "0dec9a03",
   "metadata": {},
   "source": [
    "We cannot just do $\\lambda'$=h(\\lambda,r)=\\lambda$\n",
    "The dimensions has to match!\n",
    "\n",
    "($\\lambda'$, $r'$)=($\\lambda$, $\\exp(r)$)\n",
    "\n",
    "$J=|\\dfrac{\\partial(\\lambda',r')}{\\partial(\\lambda,r)}|$\n",
    "Acceptance probablity to move from the model 1 to 2\n",
    "\n",
    "$\\alpha((1,\\lambda),(2,\\lambda',r'))=min({1,\\dfrac{\\pi(1,\\lambda|\\vec{x})}{\\pi(2, \\lambda',r'|\\vec{x})q(k|k')})g(w)q(k'|k)} \\cdot J)$"
   ]
  },
  {
   "cell_type": "code",
   "execution_count": 10,
   "id": "7733c187",
   "metadata": {},
   "outputs": [],
   "source": [
    "# RJMCMC Algorithm\n",
    "def RJMCMC(data, n_iter=10000):\n",
    "    # Initialize parameters for Poisson (Model 1)\n",
    "    model = 1\n",
    "    lam = 1.0  # Initial parameter for Poisson\n",
    "    r = 2.0    # Initial parameter for Negative Binomial\n",
    "    p = 0.5    # Initial parameter for Negative Binomial\n",
    "    \n",
    "    samples = []\n",
    "    \n",
    "    for i in range(n_iter):\n",
    "        if model == 1:\n",
    "            # Propose to switch to Model 2 (Negative Binomial)\n",
    "            w = np.random.uniform(0, 1)\n",
    "            r_new = -np.log(w) if w > 0 else np.inf  # New r for Negative Binomial\n",
    "            lam_new = lam       # Keep lambda same\n",
    "            \n",
    "            # Jacobian determinant (1/w)\n",
    "            jacobian = 1 / w if w > 0 else np.inf\n",
    "            \n",
    "            # Compute acceptance ratio\n",
    "            poisson_likelihood_current = np.prod([poisson_distribution(x, lam) for x in data])\n",
    "            nb_likelihood_new = np.prod([neg_binomial_distribution(x, r_new, lam_new/(lam_new + r_new)) for x in data])\n",
    "            \n",
    "            # Avoid division by zero\n",
    "            if poisson_likelihood_current == 0:\n",
    "                acceptance_ratio = np.inf if nb_likelihood_new > 0 else 0\n",
    "            else:\n",
    "                acceptance_ratio = (nb_likelihood_new / poisson_likelihood_current) * jacobian\n",
    "            \n",
    "            # Metropolis-Hastings step\n",
    "            if np.random.uniform(0, 1) < acceptance_ratio:\n",
    "                model = 2  # Switch to Negative Binomial\n",
    "                r = r_new  # Update parameters\n",
    "        \n",
    "        elif model == 2:\n",
    "            # Propose to switch back to Model 1 (Poisson)\n",
    "            w = np.random.uniform(0, 1)\n",
    "            lam_new = lam\n",
    "            jacobian = np.exp(-r)\n",
    "            \n",
    "            # Compute acceptance ratio\n",
    "            nb_likelihood_current = np.prod([neg_binomial_distribution(x, r, lam/(lam + r)) for x in data])\n",
    "            poisson_likelihood_new = np.prod([poisson_distribution(x, lam_new) for x in data])\n",
    "            \n",
    "            # Avoid division by zero\n",
    "            if nb_likelihood_current == 0:\n",
    "                acceptance_ratio = np.inf if poisson_likelihood_new > 0 else 0\n",
    "            else:\n",
    "                acceptance_ratio = (poisson_likelihood_new / nb_likelihood_current) * jacobian\n",
    "            \n",
    "            # Metropolis-Hastings step\n",
    "            if np.random.uniform(0, 1) < acceptance_ratio:\n",
    "                model = 1  # Switch to Poisson\n",
    "                lam = lam_new  # Update parameters\n",
    "        \n",
    "        # Store the model and parameters\n",
    "        samples.append((model, lam, r if model == 2 else None))\n",
    "    \n",
    "    return samples\n",
    "#\n",
    "from scipy.stats import nbinom\n",
    "\n",
    "def create_mixed_dataset(size=100):\n",
    "    # Generate Poisson data\n",
    "    poisson_data = np.random.poisson(15, size=size)  # Adjust lambda if needed\n",
    "\n",
    "    # Generate Negative Binomial data\n",
    "    n = 10   # Number of successes\n",
    "    p = 0.5  # Probability of success\n",
    "    negative_binomial_data = nbinom.rvs(n, p, size=size)\n",
    "\n",
    "    # Combine the datasets\n",
    "    mixed_data = np.concatenate([poisson_data, negative_binomial_data])\n",
    "    np.random.shuffle(mixed_data)  # Shuffle to mix the data well\n",
    "    return mixed_data\n",
    "\n",
    "# Create a dataset\n",
    "data = create_mixed_dataset(size=100)\n",
    "\n",
    "# # Print the mixed data for verification\n",
    "# print(data)\n",
    "\n",
    "samples = RJMCMC(data)"
   ]
  },
  {
   "cell_type": "code",
   "execution_count": 4,
   "id": "03ffe19a",
   "metadata": {},
   "outputs": [
    {
     "data": {
      "image/png": "[encoded data removed]",
      "text/plain": [
       "<Figure size 1200x500 with 1 Axes>"
      ]
     },
     "metadata": {},
     "output_type": "display_data"
    }
   ],
   "source": [
    "\n",
    "model_counts = [s[0] for s in samples]  # Model (1 for Poisson, 2 for Negative Binomial)\n",
    "lambda_samples = [s[1] for s in samples if s[0] == 1]  # Lambda samples from Poisson\n",
    "r_samples = [s[2] for s in samples if s[0] == 2]  # R samples from Negative Binomial\n",
    "\n",
    "# Plotting the model counts\n",
    "plt.figure(figsize=(12, 5))\n",
    "\n",
    "# Model counts\n",
    "plt.subplot(1, 2, 1)\n",
    "plt.plot(model_counts, marker='o', linestyle='', markersize=1, alpha=0.5)\n",
    "plt.title('Model Switching Over Iterations')\n",
    "plt.xlabel('Iteration')\n",
    "plt.ylabel('Model (1: Poisson, 2: Negative Binomial)')\n",
    "plt.yticks([1, 2], ['Poisson', 'Negative Binomial'])\n",
    "\n",
    "# # Lambda and R samples\n",
    "# plt.subplot(1, 2, 2)\n",
    "# plt.hist(lambda_samples, bins=30, alpha=0.5, label='Lambda (Poisson)', color='blue', density=True)\n",
    "# plt.hist(r_samples, bins=30, alpha=0.5, label='R (Negative Binomial)', color='orange', density=True)\n",
    "# plt.title('Distribution of Parameters')\n",
    "# plt.xlabel('Parameter Value')\n",
    "# plt.ylabel('Density')\n",
    "# plt.legend()\n",
    "\n",
    "plt.tight_layout()\n",
    "plt.show()"
   ]
  },
  {
   "cell_type": "code",
   "execution_count": null,
   "id": "fbdf93f0",
   "metadata": {
    "scrolled": true
   },
   "outputs": [],
   "source": [
    "\n"
   ]
  },
  {
   "cell_type": "code",
   "execution_count": null,
   "id": "a3f86c5d",
   "metadata": {},
   "outputs": [],
   "source": []
  },
  {
   "cell_type": "code",
   "execution_count": null,
   "id": "b0d83a7e",
   "metadata": {},
   "outputs": [],
   "source": []
  }
 ],
 "metadata": {
  "kernelspec": {
   "display_name": "Python 3 (ipykernel)",
   "language": "python",
   "name": "python3"
  },
  "language_info": {
   "codemirror_mode": {
    "name": "ipython",
    "version": 3
   },
   "file_extension": ".py",
   "mimetype": "text/x-python",
   "name": "python",
   "nbconvert_exporter": "python",
   "pygments_lexer": "ipython3",
   "version": "3.10.9"
  }
 },
 "nbformat": 4,
 "nbformat_minor": 5
}
